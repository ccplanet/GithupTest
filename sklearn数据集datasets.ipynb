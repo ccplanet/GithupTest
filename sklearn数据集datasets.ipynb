{
  "nbformat": 4,
  "nbformat_minor": 0,
  "metadata": {
    "colab": {
      "name": "sklearn数据集datasets.ipynb",
      "version": "0.3.2",
      "provenance": [],
      "collapsed_sections": [],
      "include_colab_link": true
    },
    "kernelspec": {
      "name": "python3",
      "display_name": "Python 3"
    }
  },
  "cells": [
    {
      "cell_type": "markdown",
      "metadata": {
        "id": "view-in-github",
        "colab_type": "text"
      },
      "source": [
        "<a href=\"https://colab.research.google.com/github/ccplanet/GithupTest/blob/master/sklearn%E6%95%B0%E6%8D%AE%E9%9B%86datasets.ipynb\" target=\"_parent\"><img src=\"https://colab.research.google.com/assets/colab-badge.svg\" alt=\"Open In Colab\"/></a>"
      ]
    },
    {
      "metadata": {
        "id": "PdTgwNjJJykg",
        "colab_type": "code",
        "colab": {}
      },
      "cell_type": "code",
      "source": [
        "# sklearn的数据集\n",
        "from __future__ import print_function\n",
        "from sklearn import datasets\n",
        "from sklearn.linear_model import LinearRegression\n",
        "import matplotlib.pyplot as plt"
      ],
      "execution_count": 0,
      "outputs": []
    },
    {
      "metadata": {
        "id": "qSRNuuT9KJtx",
        "colab_type": "code",
        "colab": {}
      },
      "cell_type": "code",
      "source": [
        "# 第一种，自带数据集，可直接自动下载使用\n",
        "# boston房价数据集\n",
        "loaded_data = datasets.load_boston()\n",
        "data_X = loaded_data.data\n",
        "data_y = loaded_data.target"
      ],
      "execution_count": 0,
      "outputs": []
    },
    {
      "metadata": {
        "id": "d4dXVSZ_KRKW",
        "colab_type": "code",
        "colab": {
          "base_uri": "https://localhost:8080/",
          "height": 51
        },
        "outputId": "2b0fc8b4-9f02-4c2b-9c5c-3aa7af9a6cc2"
      },
      "cell_type": "code",
      "source": [
        "# 训练模型，预测结果\n",
        "model = LinearRegression()\n",
        "model.fit(data_X, data_y)\n",
        "\n",
        "print(model.predict(data_X[:4, :]))\n",
        "print(data_y[:4])"
      ],
      "execution_count": 7,
      "outputs": [
        {
          "output_type": "stream",
          "text": [
            "[30.00384338 25.02556238 30.56759672 28.60703649]\n",
            "[24.  21.6 34.7 33.4]\n"
          ],
          "name": "stdout"
        }
      ]
    },
    {
      "metadata": {
        "id": "fMQaMNnkKfv3",
        "colab_type": "code",
        "colab": {
          "base_uri": "https://localhost:8080/",
          "height": 347
        },
        "outputId": "6a990798-747e-40b9-bb45-95dd7abfc85b"
      },
      "cell_type": "code",
      "source": [
        "# 第二种：按一定自定义规则生成数据集\n",
        "X, y = datasets.make_regression(n_samples=100, n_features=1, n_targets=1, noise=10)\n",
        "plt.scatter(X, y)\n",
        "plt.show()"
      ],
      "execution_count": 8,
      "outputs": [
        {
          "output_type": "display_data",
          "data": {
            "image/png": "[encoded data removed]",
            "text/plain": [
              "<Figure size 576x396 with 1 Axes>"
            ]
          },
          "metadata": {
            "tags": []
          }
        }
      ]
    }
  ]
}