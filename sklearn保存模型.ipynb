{
  "nbformat": 4,
  "nbformat_minor": 0,
  "metadata": {
    "colab": {
      "name": "sklearn保存模型.ipynb",
      "version": "0.3.2",
      "provenance": [],
      "collapsed_sections": [],
      "include_colab_link": true
    },
    "kernelspec": {
      "name": "python3",
      "display_name": "Python 3"
    }
  },
  "cells": [
    {
      "cell_type": "markdown",
      "metadata": {
        "id": "view-in-github",
        "colab_type": "text"
      },
      "source": [
        "<a href=\"https://colab.research.google.com/github/ccplanet/GithupTest/blob/master/sklearn%E4%BF%9D%E5%AD%98%E6%A8%A1%E5%9E%8B.ipynb\" target=\"_parent\"><img src=\"https://colab.research.google.com/assets/colab-badge.svg\" alt=\"Open In Colab\"/></a>"
      ]
    },
    {
      "metadata": {
        "id": "yW4ExrgZTla1",
        "colab_type": "code",
        "colab": {
          "base_uri": "https://localhost:8080/",
          "height": 85
        },
        "outputId": "8ffae582-4dbb-4acd-d264-975c7e50f4de"
      },
      "cell_type": "code",
      "source": [
        "# 保存模型的两种方法\n",
        "from sklearn import svm\n",
        "from sklearn import datasets\n",
        "\n",
        "iris = datasets.load_iris()\n",
        "X, y = iris.data, iris.target\n",
        "clf = svm.SVC(gamma='auto')\n",
        "clf.fit(X,y)"
      ],
      "execution_count": 2,
      "outputs": [
        {
          "output_type": "execute_result",
          "data": {
            "text/plain": [
              "SVC(C=1.0, cache_size=200, class_weight=None, coef0=0.0,\n",
              "  decision_function_shape='ovr', degree=3, gamma='auto', kernel='rbf',\n",
              "  max_iter=-1, probability=False, random_state=None, shrinking=True,\n",
              "  tol=0.001, verbose=False)"
            ]
          },
          "metadata": {
            "tags": []
          },
          "execution_count": 2
        }
      ]
    },
    {
      "metadata": {
        "id": "5xT0IIbxTyf3",
        "colab_type": "code",
        "colab": {
          "base_uri": "https://localhost:8080/",
          "height": 51
        },
        "outputId": "b8704aba-6918-44b9-b7a5-fee12e293f77"
      },
      "cell_type": "code",
      "source": [
        "# 使用pickle来保存与读取训练好的Model\n",
        "import pickle #pickle模块\n",
        "#保存Model(注:save文件夹要预先建立，否则会报错)\n",
        "!mkdir save #新建文件夹\n",
        "with open('save/clf.pickle', 'wb') as f:\n",
        "    pickle.dump(clf, f)\n",
        "#读取Model\n",
        "with open('save/clf.pickle', 'rb') as f:\n",
        "    clf2 = pickle.load(f)\n",
        "    #测试读取后的Model\n",
        "    print(clf2.predict(X[0:1]))\n",
        "# [0]"
      ],
      "execution_count": 5,
      "outputs": [
        {
          "output_type": "stream",
          "text": [
            "mkdir: cannot create directory ‘save’: File exists\n",
            "[0]\n"
          ],
          "name": "stdout"
        }
      ]
    },
    {
      "metadata": {
        "id": "xs184ABlUbPx",
        "colab_type": "code",
        "colab": {
          "base_uri": "https://localhost:8080/",
          "height": 34
        },
        "outputId": "9d511852-d161-4425-e948-416b1f72861c"
      },
      "cell_type": "code",
      "source": [
        "from sklearn.externals import joblib #jbolib模块\n",
        "#保存Model(注:save文件夹要预先建立，否则会报错)\n",
        "joblib.dump(clf, 'save/clf.pkl')\n",
        "#读取Model\n",
        "clf3 = joblib.load('save/clf.pkl')\n",
        "#测试读取后的Model\n",
        "print(clf3.predict(X[0:1]))\n",
        "\n",
        "# [0]"
      ],
      "execution_count": 8,
      "outputs": [
        {
          "output_type": "stream",
          "text": [
            "[0]\n"
          ],
          "name": "stdout"
        }
      ]
    }
  ]
}