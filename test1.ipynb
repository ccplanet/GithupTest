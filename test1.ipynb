{
  "nbformat": 4,
  "nbformat_minor": 0,
  "metadata": {
    "colab": {
      "name": "Untitled1.ipynb",
      "version": "0.3.2",
      "provenance": [],
      "collapsed_sections": [],
      "include_colab_link": true
    },
    "kernelspec": {
      "name": "python3",
      "display_name": "Python 3"
    },
    "accelerator": "GPU"
  },
  "cells": [
    {
      "cell_type": "markdown",
      "metadata": {
        "id": "view-in-github",
        "colab_type": "text"
      },
      "source": [
        "<a href=\"https://colab.research.google.com/github/ccplanet/GithupTest/blob/master/test1.ipynb\" target=\"_parent\"><img src=\"https://colab.research.google.com/assets/colab-badge.svg\" alt=\"Open In Colab\"/></a>"
      ]
    },
    {
      "metadata": {
        "id": "Ec99uKZ0ITJw",
        "colab_type": "code",
        "colab": {
          "base_uri": "https://localhost:8080/",
          "height": 391
        },
        "outputId": "a52caeeb-0298-445f-d973-0157d1a7e72e"
      },
      "cell_type": "code",
      "source": [
        "# tensorflow,keras mnist数据集手写识别测试\n",
        "import tensorflow as tf\n",
        "mnist = tf.keras.datasets.mnist\n",
        "\n",
        "(x_train, y_train),(x_test, y_test) = mnist.load_data()\n",
        "x_train, x_test = x_train / 255.0, x_test / 255.0\n",
        "\n",
        "model = tf.keras.models.Sequential([\n",
        "  tf.keras.layers.Flatten(),\n",
        "  tf.keras.layers.Dense(512, activation=tf.nn.relu),\n",
        "  tf.keras.layers.Dropout(0.2),\n",
        "  tf.keras.layers.Dense(10, activation=tf.nn.softmax)\n",
        "])\n",
        "model.compile(optimizer='adam',\n",
        "              loss='sparse_categorical_crossentropy',\n",
        "              metrics=['accuracy'])\n",
        "\n",
        "model.fit(x_train, y_train, epochs=10)\n",
        "model.evaluate(x_test, y_test)"
      ],
      "execution_count": 4,
      "outputs": [
        {
          "output_type": "stream",
          "text": [
            "Epoch 1/10\n",
            "60000/60000 [==============================] - 8s 132us/sample - loss: 0.2211 - acc: 0.9340\n",
            "Epoch 2/10\n",
            "60000/60000 [==============================] - 8s 130us/sample - loss: 0.0971 - acc: 0.9703\n",
            "Epoch 3/10\n",
            "60000/60000 [==============================] - 8s 129us/sample - loss: 0.0699 - acc: 0.9780\n",
            "Epoch 4/10\n",
            "60000/60000 [==============================] - 8s 129us/sample - loss: 0.0538 - acc: 0.9827\n",
            "Epoch 5/10\n",
            "60000/60000 [==============================] - 8s 130us/sample - loss: 0.0446 - acc: 0.9862\n",
            "Epoch 6/10\n",
            "60000/60000 [==============================] - 8s 129us/sample - loss: 0.0361 - acc: 0.9879\n",
            "Epoch 7/10\n",
            "60000/60000 [==============================] - 8s 129us/sample - loss: 0.0311 - acc: 0.9898\n",
            "Epoch 8/10\n",
            "60000/60000 [==============================] - 8s 128us/sample - loss: 0.0271 - acc: 0.9912\n",
            "Epoch 9/10\n",
            "60000/60000 [==============================] - 8s 130us/sample - loss: 0.0246 - acc: 0.9918\n",
            "Epoch 10/10\n",
            "60000/60000 [==============================] - 8s 128us/sample - loss: 0.0219 - acc: 0.9922\n",
            "10000/10000 [==============================] - 1s 67us/sample - loss: 0.0696 - acc: 0.9811\n"
          ],
          "name": "stdout"
        },
        {
          "output_type": "execute_result",
          "data": {
            "text/plain": [
              "[0.06962087884506764, 0.9811]"
            ]
          },
          "metadata": {
            "tags": []
          },
          "execution_count": 4
        }
      ]
    }
  ]
}