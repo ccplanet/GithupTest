{
  "nbformat": 4,
  "nbformat_minor": 0,
  "metadata": {
    "colab": {
      "name": "影评文本分类.ipynb",
      "version": "0.3.2",
      "provenance": [],
      "collapsed_sections": [],
      "include_colab_link": true
    },
    "kernelspec": {
      "name": "python3",
      "display_name": "Python 3"
    },
    "accelerator": "GPU"
  },
  "cells": [
    {
      "cell_type": "markdown",
      "metadata": {
        "id": "view-in-github",
        "colab_type": "text"
      },
      "source": [
        "<a href=\"https://colab.research.google.com/github/ccplanet/GithupTest/blob/master/%E5%BD%B1%E8%AF%84%E6%96%87%E6%9C%AC%E5%88%86%E7%B1%BB.ipynb\" target=\"_parent\"><img src=\"https://colab.research.google.com/assets/colab-badge.svg\" alt=\"Open In Colab\"/></a>"
      ]
    },
    {
      "metadata": {
        "id": "PjcWD3o3YZCH",
        "colab_type": "code",
        "outputId": "edf862b9-e16f-4a96-da1f-e970bd025111",
        "colab": {
          "base_uri": "https://localhost:8080/",
          "height": 34
        }
      },
      "cell_type": "code",
      "source": [
        "import tensorflow as tf\n",
        "from tensorflow import keras\n",
        "\n",
        "import numpy as np\n",
        "\n",
        "print(tf.__version__)"
      ],
      "execution_count": 47,
      "outputs": [
        {
          "output_type": "stream",
          "text": [
            "1.13.0-rc1\n"
          ],
          "name": "stdout"
        }
      ]
    },
    {
      "metadata": {
        "id": "Gh2qJSa3Yi-y",
        "colab_type": "code",
        "colab": {}
      },
      "cell_type": "code",
      "source": [
        "imdb = keras.datasets.imdb\n",
        "(train_data, train_labels), (test_data, test_labels) = imdb.load_data(num_words=10000)"
      ],
      "execution_count": 0,
      "outputs": []
    },
    {
      "metadata": {
        "id": "VkqSqXChY8Fy",
        "colab_type": "code",
        "outputId": "48d61c5b-0820-4d4d-a64b-3c887cebd624",
        "colab": {
          "base_uri": "https://localhost:8080/",
          "height": 88
        }
      },
      "cell_type": "code",
      "source": [
        "# 探索数据\n",
        "# 我们花点时间来了解一下数据的格式。该数据集已经过预处理：每个样本都是一个整数数组，表示影评中的字词。每个标签都是整数值 0 或 1，其中 0 表示负面影评，1 表示正面影评。\n",
        "print(\"Training entries: {}, labels: {}\".format(len(train_data), len(train_labels)))\n",
        "# 影评文本已转换为整数，其中每个整数都表示字典中的一个特定字词。第一条影评如下所示：\n",
        "print(train_data[0])\n",
        "# 影评的长度可能会有所不同。以下代码显示了第一条和第二条影评中的字词数。由于神经网络的输入必须具有相同长度，因此我们稍后需要解决此问题。\n",
        "len(train_data[0]), len(train_data[1])"
      ],
      "execution_count": 49,
      "outputs": [
        {
          "output_type": "stream",
          "text": [
            "Training entries: 25000, labels: 25000\n",
            "[1, 14, 22, 16, 43, 530, 973, 1622, 1385, 65, 458, 4468, 66, 3941, 4, 173, 36, 256, 5, 25, 100, 43, 838, 112, 50, 670, 2, 9, 35, 480, 284, 5, 150, 4, 172, 112, 167, 2, 336, 385, 39, 4, 172, 4536, 1111, 17, 546, 38, 13, 447, 4, 192, 50, 16, 6, 147, 2025, 19, 14, 22, 4, 1920, 4613, 469, 4, 22, 71, 87, 12, 16, 43, 530, 38, 76, 15, 13, 1247, 4, 22, 17, 515, 17, 12, 16, 626, 18, 2, 5, 62, 386, 12, 8, 316, 8, 106, 5, 4, 2223, 5244, 16, 480, 66, 3785, 33, 4, 130, 12, 16, 38, 619, 5, 25, 124, 51, 36, 135, 48, 25, 1415, 33, 6, 22, 12, 215, 28, 77, 52, 5, 14, 407, 16, 82, 2, 8, 4, 107, 117, 5952, 15, 256, 4, 2, 7, 3766, 5, 723, 36, 71, 43, 530, 476, 26, 400, 317, 46, 7, 4, 2, 1029, 13, 104, 88, 4, 381, 15, 297, 98, 32, 2071, 56, 26, 141, 6, 194, 7486, 18, 4, 226, 22, 21, 134, 476, 26, 480, 5, 144, 30, 5535, 18, 51, 36, 28, 224, 92, 25, 104, 4, 226, 65, 16, 38, 1334, 88, 12, 16, 283, 5, 16, 4472, 113, 103, 32, 15, 16, 5345, 19, 178, 32]\n"
          ],
          "name": "stdout"
        },
        {
          "output_type": "execute_result",
          "data": {
            "text/plain": [
              "(218, 189)"
            ]
          },
          "metadata": {
            "tags": []
          },
          "execution_count": 49
        }
      ]
    },
    {
      "metadata": {
        "id": "WhrSwLbdY89Z",
        "colab_type": "code",
        "outputId": "6ac4bf7f-3849-44d6-d816-1bd7dcf71bc7",
        "colab": {
          "base_uri": "https://localhost:8080/",
          "height": 54
        }
      },
      "cell_type": "code",
      "source": [
        "# 将数据转换成影评\n",
        "# A dictionary mapping words to an integer index\n",
        "word_index = imdb.get_word_index()\n",
        "\n",
        "# The first indices are reserved\n",
        "word_index = {k:(v+3) for k,v in word_index.items()}\n",
        "word_index[\"<PAD>\"] = 0\n",
        "word_index[\"<START>\"] = 1\n",
        "word_index[\"<UNK>\"] = 2  # unknown\n",
        "word_index[\"<UNUSED>\"] = 3\n",
        "\n",
        "reverse_word_index = dict([(value, key) for (key, value) in word_index.items()])\n",
        "\n",
        "def decode_review(text):\n",
        "    return ' '.join([reverse_word_index.get(i, '?') for i in text])\n",
        "# 可以使用 decode_review 函数显示第一条影评的文本： \n",
        "decode_review(train_data[0])"
      ],
      "execution_count": 50,
      "outputs": [
        {
          "output_type": "execute_result",
          "data": {
            "text/plain": [
              "\"<START> this film was just brilliant casting location scenery story direction everyone's really suited the part they played and you could just imagine being there robert <UNK> is an amazing actor and now the same being director <UNK> father came from the same scottish island as myself so i loved the fact there was a real connection with this film the witty remarks throughout the film were great it was just brilliant so much that i bought the film as soon as it was released for <UNK> and would recommend it to everyone to watch and the fly fishing was amazing really cried at the end it was so sad and you know what they say if you cry at a film it must have been good and this definitely was also <UNK> to the two little boy's that played the <UNK> of norman and paul they were just brilliant children are often left out of the <UNK> list i think because the stars that play them all grown up are such a big profile for the whole film but these children are amazing and should be praised for what they have done don't you think the whole story was so lovely because it was true and was someone's life after all that was shared with us all\""
            ]
          },
          "metadata": {
            "tags": []
          },
          "execution_count": 50
        }
      ]
    },
    {
      "metadata": {
        "id": "NaHtaKIIcDPS",
        "colab_type": "code",
        "outputId": "8f1d9f8b-9e39-4803-e62d-465df348f4f4",
        "colab": {
          "base_uri": "https://localhost:8080/",
          "height": 357
        }
      },
      "cell_type": "code",
      "source": [
        "# 准备数据，长度标准化，补0\n",
        "# 由于影评的长度必须相同，我们将使用 pad_sequences 函数将长度标准化：\n",
        "train_data = keras.preprocessing.sequence.pad_sequences(train_data,\n",
        "                                                        value=word_index[\"<PAD>\"],\n",
        "                                                        padding='post',\n",
        "                                                        maxlen=256)\n",
        "\n",
        "test_data = keras.preprocessing.sequence.pad_sequences(test_data,\n",
        "                                                       value=word_index[\"<PAD>\"],\n",
        "                                                       padding='post',\n",
        "                                                       maxlen=256)\n",
        "print(len(train_data[0]), len(train_data[1]))\n",
        "print(train_data[0])"
      ],
      "execution_count": 51,
      "outputs": [
        {
          "output_type": "stream",
          "text": [
            "256 256\n",
            "[   1   14   22   16   43  530  973 1622 1385   65  458 4468   66 3941\n",
            "    4  173   36  256    5   25  100   43  838  112   50  670    2    9\n",
            "   35  480  284    5  150    4  172  112  167    2  336  385   39    4\n",
            "  172 4536 1111   17  546   38   13  447    4  192   50   16    6  147\n",
            " 2025   19   14   22    4 1920 4613  469    4   22   71   87   12   16\n",
            "   43  530   38   76   15   13 1247    4   22   17  515   17   12   16\n",
            "  626   18    2    5   62  386   12    8  316    8  106    5    4 2223\n",
            " 5244   16  480   66 3785   33    4  130   12   16   38  619    5   25\n",
            "  124   51   36  135   48   25 1415   33    6   22   12  215   28   77\n",
            "   52    5   14  407   16   82    2    8    4  107  117 5952   15  256\n",
            "    4    2    7 3766    5  723   36   71   43  530  476   26  400  317\n",
            "   46    7    4    2 1029   13  104   88    4  381   15  297   98   32\n",
            " 2071   56   26  141    6  194 7486   18    4  226   22   21  134  476\n",
            "   26  480    5  144   30 5535   18   51   36   28  224   92   25  104\n",
            "    4  226   65   16   38 1334   88   12   16  283    5   16 4472  113\n",
            "  103   32   15   16 5345   19  178   32    0    0    0    0    0    0\n",
            "    0    0    0    0    0    0    0    0    0    0    0    0    0    0\n",
            "    0    0    0    0    0    0    0    0    0    0    0    0    0    0\n",
            "    0    0    0    0]\n"
          ],
          "name": "stdout"
        }
      ]
    },
    {
      "metadata": {
        "id": "22GRsn8lcDRG",
        "colab_type": "code",
        "colab": {
          "base_uri": "https://localhost:8080/",
          "height": 272
        },
        "outputId": "95c3fec1-6c2c-4c06-bf1e-bb6365b7f696"
      },
      "cell_type": "code",
      "source": [
        "'''\n",
        "按顺序堆叠各个层以构建分类器：\n",
        "\n",
        "第一层是 Embedding 层。该层会在整数编码的词汇表中查找每个字词-索引的嵌入向量。模型在接受训练时会学习这些向量。这些向量会向输出数组添加一个维度。生成的维度为：(batch, sequence, embedding)。\n",
        "接下来，一个 GlobalAveragePooling1D 层通过对序列维度求平均值，针对每个样本返回一个长度固定的输出向量。这样，模型便能够以尽可能简单的方式处理各种长度的输入。\n",
        "该长度固定的输出向量会传入一个全连接 (Dense) 层（包含 16 个隐藏单元）。\n",
        "最后一层与单个输出节点密集连接。应用 sigmoid 激活函数后，结果是介于 0 到 1 之间的浮点值，表示概率或置信水平\n",
        "'''\n",
        "'''\n",
        "隐藏单元\n",
        "上述模型在输入和输出之间有两个中间层（也称为“隐藏”层）。输出（单元、节点或神经元）的数量是相应层的表示法空间的维度。\n",
        "换句话说，该数值表示学习内部表示法时网络所允许的自由度。\n",
        "如果模型具有更多隐藏单元（更高维度的表示空间）和/或更多层，则说明网络可以学习更复杂的表示法。\n",
        "不过，这会使网络耗费更多计算资源，并且可能导致学习不必要的模式（可以优化在训练数据上的表现，但不会优化在测试数据上的表现）。\n",
        "这称为过拟合，我们稍后会加以探讨。\n",
        "'''\n",
        "# input shape is the vocabulary count used for the movie reviews (10,000 words)\n",
        "vocab_size = 10000\n",
        "model = keras.Sequential()\n",
        "model.add(keras.layers.Embedding(vocab_size, 16))\n",
        "model.add(keras.layers.GlobalAveragePooling1D())\n",
        "model.add(keras.layers.Dense(16, activation=tf.nn.relu))\n",
        "model.add(keras.layers.Dense(1, activation=tf.nn.sigmoid))\n",
        "model.summary()\n"
      ],
      "execution_count": 52,
      "outputs": [
        {
          "output_type": "stream",
          "text": [
            "_________________________________________________________________\n",
            "Layer (type)                 Output Shape              Param #   \n",
            "=================================================================\n",
            "embedding_3 (Embedding)      (None, None, 16)          160000    \n",
            "_________________________________________________________________\n",
            "global_average_pooling1d_3 ( (None, 16)                0         \n",
            "_________________________________________________________________\n",
            "dense_6 (Dense)              (None, 16)                272       \n",
            "_________________________________________________________________\n",
            "dense_7 (Dense)              (None, 1)                 17        \n",
            "=================================================================\n",
            "Total params: 160,289\n",
            "Trainable params: 160,289\n",
            "Non-trainable params: 0\n",
            "_________________________________________________________________\n"
          ],
          "name": "stdout"
        }
      ]
    },
    {
      "metadata": {
        "id": "Gd7l67rWmDgv",
        "colab_type": "code",
        "colab": {}
      },
      "cell_type": "code",
      "source": [
        "'''\n",
        "损失函数和优化器\n",
        "模型在训练时需要一个损失函数和一个优化器。\n",
        "由于这是一个二元分类问题且模型会输出一个概率（应用 S 型激活函数的单个单元层），\n",
        "因此我们将使用 binary_crossentropy 损失函数。\n",
        "该函数并不是唯一的损失函数，例如，您可以选择 mean_squared_error。\n",
        "但一般来说，binary_crossentropy 更适合处理概率问题，它可测量概率分布之间的“差距”，在本例中则为实际分布和预测之间的“差距”。\n",
        "稍后，在探索回归问题（比如预测房价）时，我们将了解如何使用另一个称为均方误差的损失函数。\n",
        "现在，配置模型以使用优化器和损失函数：\n",
        "'''\n",
        "model.compile(optimizer=tf.train.AdamOptimizer(),\n",
        "              loss='binary_crossentropy', #二元分类问题损失函数\n",
        "              metrics=['accuracy'])"
      ],
      "execution_count": 0,
      "outputs": []
    },
    {
      "metadata": {
        "id": "v7S02_GEnc0e",
        "colab_type": "code",
        "colab": {}
      },
      "cell_type": "code",
      "source": [
        "# 创建验证集\n",
        "x_val = train_data[:10000]\n",
        "partial_x_train = train_data[10000:]\n",
        "\n",
        "y_val = train_labels[:10000]\n",
        "partial_y_train = train_labels[10000:]"
      ],
      "execution_count": 0,
      "outputs": []
    },
    {
      "metadata": {
        "id": "djvL7dpzoOS3",
        "colab_type": "code",
        "colab": {
          "base_uri": "https://localhost:8080/",
          "height": 1394
        },
        "outputId": "76313e22-db23-41a4-f060-2e67dbd235bc"
      },
      "cell_type": "code",
      "source": [
        "# 训练模型\n",
        "# 用有 512 个样本的小批次训练模型 40 个周期。这将对 x_train 和 y_train 张量中的所有样本进行 40 次迭代。在训练期间，监控模型在验证集的 10000 个样本上的损失和准确率：\n",
        "history = model.fit(partial_x_train,\n",
        "                    partial_y_train,\n",
        "                    epochs=40,      #迭代次数50\n",
        "                    batch_size=512, #一小批次训练512个\n",
        "                    validation_data=(x_val, y_val), # 验证在验证集上的准确率\n",
        "                    verbose=1)"
      ],
      "execution_count": 55,
      "outputs": [
        {
          "output_type": "stream",
          "text": [
            "Train on 15000 samples, validate on 10000 samples\n",
            "Epoch 1/40\n",
            "15000/15000 [==============================] - 1s 41us/sample - loss: 0.6915 - acc: 0.5177 - val_loss: 0.6893 - val_acc: 0.5606\n",
            "Epoch 2/40\n",
            "15000/15000 [==============================] - 0s 27us/sample - loss: 0.6849 - acc: 0.6824 - val_loss: 0.6804 - val_acc: 0.6930\n",
            "Epoch 3/40\n",
            "15000/15000 [==============================] - 0s 26us/sample - loss: 0.6707 - acc: 0.7342 - val_loss: 0.6626 - val_acc: 0.7540\n",
            "Epoch 4/40\n",
            "15000/15000 [==============================] - 0s 26us/sample - loss: 0.6458 - acc: 0.7575 - val_loss: 0.6342 - val_acc: 0.7672\n",
            "Epoch 5/40\n",
            "15000/15000 [==============================] - 0s 27us/sample - loss: 0.6091 - acc: 0.7915 - val_loss: 0.5963 - val_acc: 0.7895\n",
            "Epoch 6/40\n",
            "15000/15000 [==============================] - 0s 27us/sample - loss: 0.5634 - acc: 0.8149 - val_loss: 0.5530 - val_acc: 0.8044\n",
            "Epoch 7/40\n",
            "15000/15000 [==============================] - 0s 27us/sample - loss: 0.5133 - acc: 0.8317 - val_loss: 0.5066 - val_acc: 0.8244\n",
            "Epoch 8/40\n",
            "15000/15000 [==============================] - 0s 27us/sample - loss: 0.4632 - acc: 0.8505 - val_loss: 0.4627 - val_acc: 0.8363\n",
            "Epoch 9/40\n",
            "15000/15000 [==============================] - 0s 27us/sample - loss: 0.4165 - acc: 0.8661 - val_loss: 0.4248 - val_acc: 0.8481\n",
            "Epoch 10/40\n",
            "15000/15000 [==============================] - 0s 28us/sample - loss: 0.3769 - acc: 0.8775 - val_loss: 0.3949 - val_acc: 0.8558\n",
            "Epoch 11/40\n",
            "15000/15000 [==============================] - 0s 27us/sample - loss: 0.3444 - acc: 0.8858 - val_loss: 0.3710 - val_acc: 0.8641\n",
            "Epoch 12/40\n",
            "15000/15000 [==============================] - 0s 28us/sample - loss: 0.3177 - acc: 0.8937 - val_loss: 0.3531 - val_acc: 0.8658\n",
            "Epoch 13/40\n",
            "15000/15000 [==============================] - 0s 27us/sample - loss: 0.2960 - acc: 0.8998 - val_loss: 0.3378 - val_acc: 0.8714\n",
            "Epoch 14/40\n",
            "15000/15000 [==============================] - 0s 27us/sample - loss: 0.2767 - acc: 0.9057 - val_loss: 0.3266 - val_acc: 0.8748\n",
            "Epoch 15/40\n",
            "15000/15000 [==============================] - 0s 27us/sample - loss: 0.2605 - acc: 0.9102 - val_loss: 0.3176 - val_acc: 0.8763\n",
            "Epoch 16/40\n",
            "15000/15000 [==============================] - 0s 27us/sample - loss: 0.2459 - acc: 0.9165 - val_loss: 0.3101 - val_acc: 0.8771\n",
            "Epoch 17/40\n",
            "15000/15000 [==============================] - 0s 27us/sample - loss: 0.2325 - acc: 0.9203 - val_loss: 0.3041 - val_acc: 0.8804\n",
            "Epoch 18/40\n",
            "15000/15000 [==============================] - 0s 27us/sample - loss: 0.2206 - acc: 0.9239 - val_loss: 0.2992 - val_acc: 0.8814\n",
            "Epoch 19/40\n",
            "15000/15000 [==============================] - 0s 26us/sample - loss: 0.2099 - acc: 0.9262 - val_loss: 0.2948 - val_acc: 0.8818\n",
            "Epoch 20/40\n",
            "15000/15000 [==============================] - 0s 27us/sample - loss: 0.2002 - acc: 0.9307 - val_loss: 0.2920 - val_acc: 0.8834\n",
            "Epoch 21/40\n",
            "15000/15000 [==============================] - 0s 27us/sample - loss: 0.1902 - acc: 0.9361 - val_loss: 0.2896 - val_acc: 0.8844\n",
            "Epoch 22/40\n",
            "15000/15000 [==============================] - 0s 27us/sample - loss: 0.1819 - acc: 0.9399 - val_loss: 0.2879 - val_acc: 0.8849\n",
            "Epoch 23/40\n",
            "15000/15000 [==============================] - 0s 27us/sample - loss: 0.1736 - acc: 0.9437 - val_loss: 0.2876 - val_acc: 0.8832\n",
            "Epoch 24/40\n",
            "15000/15000 [==============================] - 0s 27us/sample - loss: 0.1664 - acc: 0.9463 - val_loss: 0.2864 - val_acc: 0.8848\n",
            "Epoch 25/40\n",
            "15000/15000 [==============================] - 0s 27us/sample - loss: 0.1589 - acc: 0.9503 - val_loss: 0.2857 - val_acc: 0.8853\n",
            "Epoch 26/40\n",
            "15000/15000 [==============================] - 0s 27us/sample - loss: 0.1523 - acc: 0.9523 - val_loss: 0.2868 - val_acc: 0.8834\n",
            "Epoch 27/40\n",
            "15000/15000 [==============================] - 0s 28us/sample - loss: 0.1460 - acc: 0.9548 - val_loss: 0.2868 - val_acc: 0.8851\n",
            "Epoch 28/40\n",
            "15000/15000 [==============================] - 0s 27us/sample - loss: 0.1401 - acc: 0.9570 - val_loss: 0.2878 - val_acc: 0.8853\n",
            "Epoch 29/40\n",
            "15000/15000 [==============================] - 0s 27us/sample - loss: 0.1347 - acc: 0.9601 - val_loss: 0.2899 - val_acc: 0.8838\n",
            "Epoch 30/40\n",
            "15000/15000 [==============================] - 0s 28us/sample - loss: 0.1292 - acc: 0.9615 - val_loss: 0.2898 - val_acc: 0.8854\n",
            "Epoch 31/40\n",
            "15000/15000 [==============================] - 0s 27us/sample - loss: 0.1235 - acc: 0.9641 - val_loss: 0.2914 - val_acc: 0.8859\n",
            "Epoch 32/40\n",
            "15000/15000 [==============================] - 0s 28us/sample - loss: 0.1186 - acc: 0.9669 - val_loss: 0.2934 - val_acc: 0.8855\n",
            "Epoch 33/40\n",
            "15000/15000 [==============================] - 0s 27us/sample - loss: 0.1138 - acc: 0.9682 - val_loss: 0.2962 - val_acc: 0.8838\n",
            "Epoch 34/40\n",
            "15000/15000 [==============================] - 0s 26us/sample - loss: 0.1094 - acc: 0.9695 - val_loss: 0.2988 - val_acc: 0.8851\n",
            "Epoch 35/40\n",
            "15000/15000 [==============================] - 0s 27us/sample - loss: 0.1053 - acc: 0.9706 - val_loss: 0.3021 - val_acc: 0.8838\n",
            "Epoch 36/40\n",
            "15000/15000 [==============================] - 0s 26us/sample - loss: 0.1011 - acc: 0.9726 - val_loss: 0.3041 - val_acc: 0.8838\n",
            "Epoch 37/40\n",
            "15000/15000 [==============================] - 0s 28us/sample - loss: 0.0968 - acc: 0.9738 - val_loss: 0.3071 - val_acc: 0.8830\n",
            "Epoch 38/40\n",
            "15000/15000 [==============================] - 0s 27us/sample - loss: 0.0931 - acc: 0.9755 - val_loss: 0.3113 - val_acc: 0.8821\n",
            "Epoch 39/40\n",
            "15000/15000 [==============================] - 0s 27us/sample - loss: 0.0900 - acc: 0.9766 - val_loss: 0.3155 - val_acc: 0.8815\n",
            "Epoch 40/40\n",
            "15000/15000 [==============================] - 0s 27us/sample - loss: 0.0860 - acc: 0.9785 - val_loss: 0.3185 - val_acc: 0.8821\n"
          ],
          "name": "stdout"
        }
      ]
    },
    {
      "metadata": {
        "id": "0NZIL6xrpHQj",
        "colab_type": "code",
        "colab": {
          "base_uri": "https://localhost:8080/",
          "height": 51
        },
        "outputId": "580efa71-7d74-4e81-fb98-7da6b39a5d52"
      },
      "cell_type": "code",
      "source": [
        "# 评估模型\n",
        "# 我们来看看模型的表现如何。模型会返回两个值：损失（表示误差的数字，越低越好）和准确率。\n",
        "results = model.evaluate(test_data, test_labels)\n",
        "print(results)\n",
        "# 使用这种相当简单的方法可实现约 87% 的准确率。如果采用更高级的方法，模型的准确率应该会接近 95%。"
      ],
      "execution_count": 56,
      "outputs": [
        {
          "output_type": "stream",
          "text": [
            "25000/25000 [==============================] - 2s 62us/sample - loss: 0.3408 - acc: 0.8696\n",
            "[0.34078662613868715, 0.8696]\n"
          ],
          "name": "stdout"
        }
      ]
    },
    {
      "metadata": {
        "id": "7AtEUZO9pXsv",
        "colab_type": "code",
        "colab": {
          "base_uri": "https://localhost:8080/",
          "height": 34
        },
        "outputId": "f876fae9-6244-40aa-9e06-1fc708532581"
      },
      "cell_type": "code",
      "source": [
        "# 创建准确率和损失随时间变化的图\n",
        "# model.fit() 返回一个 History 对象，该对象包含一个字典，其中包括训练期间发生的所有情况：\n",
        "# 一共有 4 个条目：每个条目对应训练和验证期间的一个受监控指标。\n",
        "# 我们可以使用这些指标绘制训练损失与验证损失图表以进行对比，并绘制训练准确率与验证准确率图表：\n",
        "history_dict = history.history\n",
        "history_dict.keys()\n"
      ],
      "execution_count": 57,
      "outputs": [
        {
          "output_type": "execute_result",
          "data": {
            "text/plain": [
              "dict_keys(['loss', 'acc', 'val_loss', 'val_acc'])"
            ]
          },
          "metadata": {
            "tags": []
          },
          "execution_count": 57
        }
      ]
    },
    {
      "metadata": {
        "id": "fVR8MnvStWSB",
        "colab_type": "code",
        "colab": {
          "base_uri": "https://localhost:8080/",
          "height": 376
        },
        "outputId": "ab6e6001-206a-4467-85a3-e7a6326e4f07"
      },
      "cell_type": "code",
      "source": [
        "# 损失函数图\n",
        "import matplotlib.pyplot as plt\n",
        "acc = history.history['acc']\n",
        "val_acc = history.history['val_acc']\n",
        "loss = history.history['loss']\n",
        "val_loss = history.history['val_loss']\n",
        "epochs = range(1, len(acc) + 1)\n",
        "# \"bo\" is for \"blue dot\"\n",
        "plt.plot(epochs, loss, 'bo', label='Training loss')\n",
        "# b is for \"solid blue line\"\n",
        "plt.plot(epochs, val_loss, 'b', label='Validation loss')\n",
        "plt.title('Training and validation loss')\n",
        "plt.xlabel('Epochs')\n",
        "plt.ylabel('Loss')\n",
        "plt.legend()\n",
        "plt.show()"
      ],
      "execution_count": 58,
      "outputs": [
        {
          "output_type": "display_data",
          "data": {
            "image/png": "[encoded data removed]",
            "text/plain": [
              "<Figure size 576x396 with 1 Axes>"
            ]
          },
          "metadata": {
            "tags": []
          }
        }
      ]
    },
    {
      "metadata": {
        "id": "-QMNohmttPpp",
        "colab_type": "code",
        "colab": {
          "base_uri": "https://localhost:8080/",
          "height": 376
        },
        "outputId": "be5a5be2-cffe-461b-f828-c2273e4f77a5"
      },
      "cell_type": "code",
      "source": [
        "# 准确率d\n",
        "'''\n",
        "在该图表中，圆点表示训练损失和准确率，实线表示验证损失和准确率。\n",
        "可以注意到，训练损失随着周期数的增加而降低，训练准确率随着周期数的增加而提高。\n",
        "在使用梯度下降法优化模型时，这属于正常现象 - 该方法应在每次迭代时尽可能降低目标值。\n",
        "验证损失和准确率的变化情况并非如此，它们似乎在大约 20 个周期后达到峰值。\n",
        "这是一种过拟合现象：模型在训练数据上的表现要优于在从未见过的数据上的表现。\n",
        "在此之后，模型会过度优化和学习特定于训练数据的表示法，而无法泛化到测试数据。\n",
        "对于这种特殊情况，我们可以在大约 20 个周期后停止训练，防止出现过拟合。\n",
        "稍后，您将了解如何使用回调自动执行此操作。\n",
        "'''\n",
        "plt.clf()   # clear figure\n",
        "acc_values = history_dict['acc']\n",
        "val_acc_values = history_dict['val_acc']\n",
        "\n",
        "plt.plot(epochs, acc, 'bo', label='Training acc')\n",
        "plt.plot(epochs, val_acc, 'b', label='Validation acc')\n",
        "plt.title('Training and validation accuracy')\n",
        "plt.xlabel('Epochs')\n",
        "plt.ylabel('Accuracy')\n",
        "plt.legend()\n",
        "plt.show()\n"
      ],
      "execution_count": 59,
      "outputs": [
        {
          "output_type": "display_data",
          "data": {
            "image/png": "[encoded data removed]",
            "text/plain": [
              "<Figure size 576x396 with 1 Axes>"
            ]
          },
          "metadata": {
            "tags": []
          }
        }
      ]
    }
  ]
}