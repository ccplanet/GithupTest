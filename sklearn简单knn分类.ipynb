{
  "nbformat": 4,
  "nbformat_minor": 0,
  "metadata": {
    "colab": {
      "name": " sklearn简单knn分类.ipynb",
      "version": "0.3.2",
      "provenance": [],
      "collapsed_sections": [],
      "include_colab_link": true
    },
    "kernelspec": {
      "name": "python3",
      "display_name": "Python 3"
    },
    "accelerator": "GPU"
  },
  "cells": [
    {
      "cell_type": "markdown",
      "metadata": {
        "id": "view-in-github",
        "colab_type": "text"
      },
      "source": [
        "<a href=\"https://colab.research.google.com/github/ccplanet/GithupTest/blob/master/sklearn%E7%AE%80%E5%8D%95knn%E5%88%86%E7%B1%BB.ipynb\" target=\"_parent\"><img src=\"https://colab.research.google.com/assets/colab-badge.svg\" alt=\"Open In Colab\"/></a>"
      ]
    },
    {
      "metadata": {
        "id": "p3jNkrA4Ecly",
        "colab_type": "code",
        "colab": {}
      },
      "cell_type": "code",
      "source": [
        "# 导入模块\n",
        "from sklearn import datasets\n",
        "from sklearn.model_selection import train_test_split\n",
        "from sklearn.neighbors import KNeighborsClassifier"
      ],
      "execution_count": 0,
      "outputs": []
    },
    {
      "metadata": {
        "id": "t_u74f0MEmQV",
        "colab_type": "code",
        "colab": {
          "base_uri": "https://localhost:8080/",
          "height": 136
        },
        "outputId": "e238a4d5-cc41-483e-ba08-7c4053aef460"
      },
      "cell_type": "code",
      "source": [
        "# 创建数据集\n",
        "iris = datasets.load_iris()\n",
        "iris_X = iris.data\n",
        "iris_y = iris.target\n",
        "print(iris_X[:2, :])\n",
        "print(iris_y)"
      ],
      "execution_count": 21,
      "outputs": [
        {
          "output_type": "stream",
          "text": [
            "[[5.1 3.5 1.4 0.2]\n",
            " [4.9 3.  1.4 0.2]]\n",
            "[0 0 0 0 0 0 0 0 0 0 0 0 0 0 0 0 0 0 0 0 0 0 0 0 0 0 0 0 0 0 0 0 0 0 0 0 0\n",
            " 0 0 0 0 0 0 0 0 0 0 0 0 0 1 1 1 1 1 1 1 1 1 1 1 1 1 1 1 1 1 1 1 1 1 1 1 1\n",
            " 1 1 1 1 1 1 1 1 1 1 1 1 1 1 1 1 1 1 1 1 1 1 1 1 1 1 2 2 2 2 2 2 2 2 2 2 2\n",
            " 2 2 2 2 2 2 2 2 2 2 2 2 2 2 2 2 2 2 2 2 2 2 2 2 2 2 2 2 2 2 2 2 2 2 2 2 2\n",
            " 2 2]\n"
          ],
          "name": "stdout"
        }
      ]
    },
    {
      "metadata": {
        "id": "9lUDZg6MEv4t",
        "colab_type": "code",
        "colab": {
          "base_uri": "https://localhost:8080/",
          "height": 68
        },
        "outputId": "524c1e1b-d824-4d1e-bb26-837677729e07"
      },
      "cell_type": "code",
      "source": [
        "# 划分训练集与测试集（打乱顺序）\n",
        "X_train, X_test, y_train, y_test = train_test_split(\n",
        "    iris_X, iris_y, test_size=0.3)\n",
        "print(y_train)"
      ],
      "execution_count": 22,
      "outputs": [
        {
          "output_type": "stream",
          "text": [
            "[1 1 1 0 0 2 0 2 1 0 1 2 2 2 2 0 0 2 1 2 1 2 2 2 1 2 2 1 2 2 1 1 0 0 0 2 0\n",
            " 1 1 2 2 2 2 0 2 0 2 0 2 1 1 1 0 2 2 0 1 2 2 0 0 0 2 2 1 0 1 0 1 1 2 2 0 1\n",
            " 1 1 0 0 1 1 0 1 0 0 2 1 0 1 1 2 2 1 1 0 0 1 0 0 2 2 2 1 0 0 0]\n"
          ],
          "name": "stdout"
        }
      ]
    },
    {
      "metadata": {
        "id": "wdvtHMwEFcnj",
        "colab_type": "code",
        "colab": {
          "base_uri": "https://localhost:8080/",
          "height": 85
        },
        "outputId": "e2130ce7-19c4-4c93-9a0d-f980adc07037"
      },
      "cell_type": "code",
      "source": [
        "# 建立knn-训练-预测\n",
        "knn = KNeighborsClassifier()\n",
        "knn.fit(X_train, y_train)\n",
        "# 对比结果\n",
        "print(knn.predict(X_test))\n",
        "print(y_test)"
      ],
      "execution_count": 23,
      "outputs": [
        {
          "output_type": "stream",
          "text": [
            "[0 1 0 1 1 2 0 0 1 1 0 2 1 2 1 2 1 1 0 2 1 2 1 0 0 2 0 2 1 2 2 2 0 0 0 2 0\n",
            " 0 2 1 0 1 2 1 0]\n",
            "[0 1 0 1 1 2 0 0 1 1 0 2 1 2 1 2 1 1 0 2 1 2 1 0 0 2 0 2 1 2 1 2 0 0 0 2 0\n",
            " 0 2 1 0 1 2 1 0]\n"
          ],
          "name": "stdout"
        }
      ]
    },
    {
      "metadata": {
        "id": "ovRBOt47GPU1",
        "colab_type": "code",
        "colab": {}
      },
      "cell_type": "code",
      "source": [
        ""
      ],
      "execution_count": 0,
      "outputs": []
    }
  ]
}